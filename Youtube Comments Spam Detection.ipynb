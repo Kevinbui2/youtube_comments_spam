{
 "cells": [
  {
   "cell_type": "markdown",
   "id": "399fef4e",
   "metadata": {},
   "source": [
    "<h1>Youtube Comments Spam Detection</h1>"
   ]
  },
  {
   "cell_type": "markdown",
   "id": "620525c9",
   "metadata": {},
   "source": [
    "Using comments scraped from Youtube utilizing the Youtube API on top youtubers and other comments from the UCI Machine Learning Repository, I will be creating a youtube comments spam detector using a Naive Bayes Classifier Machine Learning model. "
   ]
  },
  {
   "cell_type": "code",
   "execution_count": 299,
   "id": "9b1846c0",
   "metadata": {},
   "outputs": [],
   "source": [
    "import pandas as pd\n",
    "import numpy as np\n",
    "import matplotlib.pyplot as plt\n",
    "import re\n",
    "\n",
    "from googleapiclient.discovery import build\n",
    "from dotenv import load_dotenv\n",
    "import os\n",
    "\n",
    "import nltk\n",
    "from nltk.corpus import stopwords\n",
    "\n",
    "from sklearn.model_selection import train_test_split\n",
    "from sklearn.feature_extraction.text import CountVectorizer\n",
    "from sklearn.naive_bayes import MultinomialNB\n",
    "from sklearn.metrics import classification_report, confusion_matrix, accuracy_score"
   ]
  },
  {
   "cell_type": "code",
   "execution_count": 22,
   "id": "cdcec73c",
   "metadata": {},
   "outputs": [
    {
     "name": "stderr",
     "output_type": "stream",
     "text": [
      "[nltk_data] Downloading package stopwords to /Users/kevin/nltk_data...\n",
      "[nltk_data]   Package stopwords is already up-to-date!\n"
     ]
    },
    {
     "data": {
      "text/plain": [
       "True"
      ]
     },
     "execution_count": 22,
     "metadata": {},
     "output_type": "execute_result"
    }
   ],
   "source": [
    "# Downloading Stopwords\n",
    "nltk.download('stopwords')"
   ]
  },
  {
   "cell_type": "code",
   "execution_count": 24,
   "id": "938a930d",
   "metadata": {},
   "outputs": [],
   "source": [
    "# Getting api_key from environment variable\n",
    "load_dotenv()\n",
    "api_key = os.getenv('api_key')\n",
    "\n",
    "# Creating build object for Youtube\n",
    "youtube = build('youtube', 'v3', developerKey=api_key)"
   ]
  },
  {
   "cell_type": "code",
   "execution_count": 25,
   "id": "262d4145",
   "metadata": {},
   "outputs": [],
   "source": [
    "def get_video_ids(youtube, playlist_id):\n",
    "    video_ids = []\n",
    "    \n",
    "    request = youtube.playlistItems().list(\n",
    "        part='contentDetails',\n",
    "        playlistId=playlist_id,\n",
    "        maxResults = 50\n",
    "    )\n",
    "    \n",
    "    response = request.execute()\n",
    "    \n",
    "    for item in response['items']:\n",
    "        video_ids.append(item['contentDetails']['videoId'])\n",
    "        \n",
    "    next_page_token = response.get('nextPageToken')\n",
    "    \n",
    "    while next_page_token is not None:\n",
    "        request = youtube.playlistItems().list(\n",
    "            part='contentDetails',\n",
    "            playlistId = playlist_id,\n",
    "            maxResults = 50,\n",
    "            pageToken = next_page_token\n",
    "        )\n",
    "        response = request.execute()\n",
    "        \n",
    "        for item in response['items']:\n",
    "            video_ids.append(item['contentDetails']['videoId'])\n",
    "            \n",
    "        next_page_token = response.get('nextPageToken')\n",
    "        \n",
    "    return video_ids"
   ]
  },
  {
   "cell_type": "code",
   "execution_count": 26,
   "id": "b982c6b2",
   "metadata": {},
   "outputs": [],
   "source": [
    "def get_playlists(youtube, channel_ids):\n",
    "    upload_playlists = []\n",
    "    \n",
    "    request = youtube.channels().list(\n",
    "        part='contentDetails',\n",
    "        id=','.join(channel_ids)\n",
    "    )\n",
    "    \n",
    "    response = request.execute()\n",
    "    \n",
    "    for item in response['items']:\n",
    "        upload_playlists.append(item['contentDetails']['relatedPlaylists']['uploads'])\n",
    "        \n",
    "    return upload_playlists"
   ]
  },
  {
   "cell_type": "code",
   "execution_count": 27,
   "id": "e969165e",
   "metadata": {},
   "outputs": [],
   "source": [
    "def get_comments_in_videos(youtube, video_ids):\n",
    "    comments = np.array([])\n",
    "    \n",
    "    for video_id in video_ids:\n",
    "        request = youtube.commentThreads().list(\n",
    "            part='snippet,replies',\n",
    "            videoId=video_id,\n",
    "            order = 'time',\n",
    "            maxResults = 100\n",
    "        )\n",
    "        response = request.execute()\n",
    "        \n",
    "        comments_in_video = [\n",
    "            comment['snippet']['topLevelComment']['snippet']['textOriginal']\n",
    "            for comment in response['items']\n",
    "        ]\n",
    "        comments = np.append(comments, comments_in_video)\n",
    "        \n",
    "        while response:   \n",
    "            comments_in_video = [\n",
    "                comment['snippet']['topLevelComment']['snippet']['textOriginal']\n",
    "                for comment in response['items']\n",
    "            ]\n",
    "            comments = np.append(comments, comments_in_video)\n",
    "            \n",
    "            if 'nextPageToken' in response:\n",
    "                request = youtube.commentThreads().list(\n",
    "                    part='snippet,replies',\n",
    "                    videoId=video_id,\n",
    "                    order = 'time',\n",
    "                    maxResults = 100,\n",
    "                    pageToken=response['nextPageToken']\n",
    "                )\n",
    "                response = request.execute()\n",
    "            else:\n",
    "                break\n",
    "                \n",
    "            if len(set(comments)) > 2000:\n",
    "                break\n",
    "                \n",
    "    return list(set(comments))"
   ]
  },
  {
   "cell_type": "code",
   "execution_count": 28,
   "id": "fa8a5ddc",
   "metadata": {},
   "outputs": [],
   "source": [
    "# Processes and tokenizes the text\n",
    "def process_text(text): \n",
    "    out = re.sub(r'[^\\w\\s]', '', text) # Removing Punctuation\n",
    "    out = [word for word in out.split() if word.lower() not in stopwords.words('english')] # Removes Stopwords\n",
    "    return out"
   ]
  },
  {
   "cell_type": "code",
   "execution_count": 373,
   "id": "97ba50be",
   "metadata": {},
   "outputs": [],
   "source": [
    "# Getting upload playlist from channel_id\n",
    "channel_ids = [\n",
    "    'UCX6OQ3DkcsbYNE6H8uQQuVA', # MrBeast\n",
    "    'UCoOjH8D2XAgjzQlneM2W0EQ', # JakeTran\n",
    "    'UCgv4dPk_qZNAbUW9WkuLPSA', # Atrioc\n",
    "    'UCYzPXprvl5Y-Sf0g4vX-m6g', # Jacksepticeye\n",
    "    'UCBJycsmduvYEL83R_U4JriQ'  # Marques Brownlee\n",
    "]\n",
    "playlists = get_playlists(youtube, channel_ids)"
   ]
  },
  {
   "cell_type": "code",
   "execution_count": 685,
   "id": "0a80acca",
   "metadata": {},
   "outputs": [],
   "source": [
    "# Getting all video ids for each Youtuber\n",
    "jacksepticeye_video_ids = get_video_ids(youtube, playlists[0])\n",
    "mr_beast_video_ids = get_video_ids(youtube, playlists[1])\n",
    "marques_brownlee_video_ids = get_video_ids(youtube, playlists[2])\n",
    "jake_tran_video_ids = get_video_ids(youtube, playlists[3])\n",
    "atrioc_video_ids = get_video_ids(youtube, playlists[4])"
   ]
  },
  {
   "cell_type": "code",
   "execution_count": 688,
   "id": "6f210e91",
   "metadata": {},
   "outputs": [
    {
     "name": "stdout",
     "output_type": "stream",
     "text": [
      "Number of Jacksepticeye Videos:  4979\n",
      "Number of MrBeast Videos:  723\n",
      "Number of Marques Brownlee Videos:  1449\n",
      "Number of Jake Tran Videos:  203\n",
      "Number of Atrioc Videos:  615\n"
     ]
    }
   ],
   "source": [
    "# Number of videos for each Youtuber\n",
    "print('Number of Jacksepticeye Videos: ', len(jacksepticeye_video_ids))\n",
    "print('Number of MrBeast Videos: ', len(mr_beast_video_ids))\n",
    "print('Number of Marques Brownlee Videos: ', len(marques_brownlee_video_ids))\n",
    "print('Number of Jake Tran Videos: ', len(jake_tran_video_ids))\n",
    "print('Number of Atrioc Videos: ', len(atrioc_video_ids))"
   ]
  },
  {
   "cell_type": "code",
   "execution_count": 716,
   "id": "b6f23c9a",
   "metadata": {},
   "outputs": [],
   "source": [
    "# Only getting roughly at most 2000 comments from Youtuber's Latest Video\n",
    "jacksepticeye_comments = get_comments_in_videos(youtube, [jacksepticeye_video_ids[0]])\n",
    "mr_beast_comments = get_comments_in_videos(youtube, [mr_beast_video_ids[0]])\n",
    "marques_brownlee_comments = get_comments_in_videos(youtube, [marques_brownlee_video_ids[0]])\n",
    "jake_tran_comments = get_comments_in_videos(youtube, [jake_tran_video_ids[1]])\n",
    "atrioc_comments = get_comments_in_videos(youtube, [atrioc_video_ids[1]])\n",
    "# At the time, Jake Tran and Atrioc's Latest Video just came out so decided to use second latest video"
   ]
  },
  {
   "cell_type": "code",
   "execution_count": 717,
   "id": "e8c928fe",
   "metadata": {},
   "outputs": [],
   "source": [
    "# Combing all comments\n",
    "combined_comments = (\n",
    "    jacksepticeye_comments +\n",
    "    mr_beast_comments + \n",
    "    marques_brownlee_comments + \n",
    "    jake_tran_comments +\n",
    "    atrioc_comments\n",
    ")"
   ]
  },
  {
   "cell_type": "code",
   "execution_count": 724,
   "id": "f0e1e1aa",
   "metadata": {},
   "outputs": [
    {
     "data": {
      "text/html": [
       "<div>\n",
       "<style scoped>\n",
       "    .dataframe tbody tr th:only-of-type {\n",
       "        vertical-align: middle;\n",
       "    }\n",
       "\n",
       "    .dataframe tbody tr th {\n",
       "        vertical-align: top;\n",
       "    }\n",
       "\n",
       "    .dataframe thead th {\n",
       "        text-align: right;\n",
       "    }\n",
       "</style>\n",
       "<table border=\"1\" class=\"dataframe\">\n",
       "  <thead>\n",
       "    <tr style=\"text-align: right;\">\n",
       "      <th></th>\n",
       "      <th>comment</th>\n",
       "      <th>is_spam</th>\n",
       "    </tr>\n",
       "  </thead>\n",
       "  <tbody>\n",
       "    <tr>\n",
       "      <th>0</th>\n",
       "      <td>Cats can eat grass it helps them when there st...</td>\n",
       "      <td>NaN</td>\n",
       "    </tr>\n",
       "    <tr>\n",
       "      <th>1</th>\n",
       "      <td>I can't wait for Part 2 on this :D look's awes...</td>\n",
       "      <td>NaN</td>\n",
       "    </tr>\n",
       "    <tr>\n",
       "      <th>2</th>\n",
       "      <td>Its okay about the poncho Jack, you return to ...</td>\n",
       "      <td>NaN</td>\n",
       "    </tr>\n",
       "    <tr>\n",
       "      <th>3</th>\n",
       "      <td>Jack you forgot to find the first few memory s...</td>\n",
       "      <td>NaN</td>\n",
       "    </tr>\n",
       "    <tr>\n",
       "      <th>4</th>\n",
       "      <td>I really hope Jack plays Sky some day, I reall...</td>\n",
       "      <td>NaN</td>\n",
       "    </tr>\n",
       "    <tr>\n",
       "      <th>...</th>\n",
       "      <td>...</td>\n",
       "      <td>...</td>\n",
       "    </tr>\n",
       "    <tr>\n",
       "      <th>7982</th>\n",
       "      <td>Forgot Paper Mario, classic mistake</td>\n",
       "      <td>NaN</td>\n",
       "    </tr>\n",
       "    <tr>\n",
       "      <th>7983</th>\n",
       "      <td>what?!?</td>\n",
       "      <td>NaN</td>\n",
       "    </tr>\n",
       "    <tr>\n",
       "      <th>7984</th>\n",
       "      <td>I was not ready for him stabbing himself</td>\n",
       "      <td>NaN</td>\n",
       "    </tr>\n",
       "    <tr>\n",
       "      <th>7985</th>\n",
       "      <td>I love the sound of falling onto a window in M...</td>\n",
       "      <td>NaN</td>\n",
       "    </tr>\n",
       "    <tr>\n",
       "      <th>7986</th>\n",
       "      <td>Fallout NV gotta be my GOAT game if i really h...</td>\n",
       "      <td>NaN</td>\n",
       "    </tr>\n",
       "  </tbody>\n",
       "</table>\n",
       "<p>7987 rows × 2 columns</p>\n",
       "</div>"
      ],
      "text/plain": [
       "                                                comment  is_spam\n",
       "0     Cats can eat grass it helps them when there st...      NaN\n",
       "1     I can't wait for Part 2 on this :D look's awes...      NaN\n",
       "2     Its okay about the poncho Jack, you return to ...      NaN\n",
       "3     Jack you forgot to find the first few memory s...      NaN\n",
       "4     I really hope Jack plays Sky some day, I reall...      NaN\n",
       "...                                                 ...      ...\n",
       "7982                Forgot Paper Mario, classic mistake      NaN\n",
       "7983                                            what?!?      NaN\n",
       "7984           I was not ready for him stabbing himself      NaN\n",
       "7985  I love the sound of falling onto a window in M...      NaN\n",
       "7986  Fallout NV gotta be my GOAT game if i really h...      NaN\n",
       "\n",
       "[7987 rows x 2 columns]"
      ]
     },
     "execution_count": 724,
     "metadata": {},
     "output_type": "execute_result"
    }
   ],
   "source": [
    "# Initial Setup of Comments DataFrame\n",
    "youtube_comments = pd.DataFrame(\n",
    "    data = {'comment': combined_comments, 'is_spam': [np.nan for i in range(len(combined_comments))]}\n",
    ")\n",
    "youtube_comments.to_csv('youtube_comments.csv', index = False)\n",
    "youtube_comments"
   ]
  },
  {
   "cell_type": "code",
   "execution_count": 273,
   "id": "6b3e4b44",
   "metadata": {},
   "outputs": [],
   "source": [
    "# Labeling Comments if Spam or Not\n",
    "youtube_comment_temp = pd.read_csv('youtube_comments.csv')\n",
    "for i in range(youtube_comment_temp.shape[0]):\n",
    "    if np.isnan(youtube_comment_temp['is_spam'].iloc[i]):\n",
    "        print(youtube_comment_temp.iloc[i]['comment'])\n",
    "        is_spam = input()\n",
    "        if is_spam in ['0', '1']:\n",
    "            youtube_comment_temp['is_spam'].iloc[i] = is_spam\n",
    "        elif is_spam in ['2']:\n",
    "            youtube_comment_temp['is_spam'].iloc[i] = 2\n",
    "        else:\n",
    "            break\n",
    "youtube_comment_temp.to_csv('youtube_comments.csv', index = False)"
   ]
  },
  {
   "cell_type": "code",
   "execution_count": 268,
   "id": "550a42c7",
   "metadata": {},
   "outputs": [
    {
     "data": {
      "text/html": [
       "<div>\n",
       "<style scoped>\n",
       "    .dataframe tbody tr th:only-of-type {\n",
       "        vertical-align: middle;\n",
       "    }\n",
       "\n",
       "    .dataframe tbody tr th {\n",
       "        vertical-align: top;\n",
       "    }\n",
       "\n",
       "    .dataframe thead th {\n",
       "        text-align: right;\n",
       "    }\n",
       "</style>\n",
       "<table border=\"1\" class=\"dataframe\">\n",
       "  <thead>\n",
       "    <tr style=\"text-align: right;\">\n",
       "      <th></th>\n",
       "      <th>comment</th>\n",
       "      <th>is_spam</th>\n",
       "    </tr>\n",
       "  </thead>\n",
       "  <tbody>\n",
       "    <tr>\n",
       "      <th>0</th>\n",
       "      <td>Cats can eat grass it helps them when there st...</td>\n",
       "      <td>0.0</td>\n",
       "    </tr>\n",
       "    <tr>\n",
       "      <th>1</th>\n",
       "      <td>I can't wait for Part 2 on this :D look's awes...</td>\n",
       "      <td>0.0</td>\n",
       "    </tr>\n",
       "    <tr>\n",
       "      <th>2</th>\n",
       "      <td>Its okay about the poncho Jack, you return to ...</td>\n",
       "      <td>0.0</td>\n",
       "    </tr>\n",
       "    <tr>\n",
       "      <th>3</th>\n",
       "      <td>Jack you forgot to find the first few memory s...</td>\n",
       "      <td>0.0</td>\n",
       "    </tr>\n",
       "    <tr>\n",
       "      <th>4</th>\n",
       "      <td>I really hope Jack plays Sky some day, I reall...</td>\n",
       "      <td>0.0</td>\n",
       "    </tr>\n",
       "    <tr>\n",
       "      <th>...</th>\n",
       "      <td>...</td>\n",
       "      <td>...</td>\n",
       "    </tr>\n",
       "    <tr>\n",
       "      <th>7983</th>\n",
       "      <td>Forgot Paper Mario, classic mistake</td>\n",
       "      <td>0.0</td>\n",
       "    </tr>\n",
       "    <tr>\n",
       "      <th>7984</th>\n",
       "      <td>what?!?</td>\n",
       "      <td>0.0</td>\n",
       "    </tr>\n",
       "    <tr>\n",
       "      <th>7985</th>\n",
       "      <td>I was not ready for him stabbing himself</td>\n",
       "      <td>0.0</td>\n",
       "    </tr>\n",
       "    <tr>\n",
       "      <th>7986</th>\n",
       "      <td>I love the sound of falling onto a window in M...</td>\n",
       "      <td>0.0</td>\n",
       "    </tr>\n",
       "    <tr>\n",
       "      <th>7987</th>\n",
       "      <td>Fallout NV gotta be my GOAT game if i really h...</td>\n",
       "      <td>0.0</td>\n",
       "    </tr>\n",
       "  </tbody>\n",
       "</table>\n",
       "<p>7988 rows × 2 columns</p>\n",
       "</div>"
      ],
      "text/plain": [
       "                                                comment  is_spam\n",
       "0     Cats can eat grass it helps them when there st...      0.0\n",
       "1     I can't wait for Part 2 on this :D look's awes...      0.0\n",
       "2     Its okay about the poncho Jack, you return to ...      0.0\n",
       "3     Jack you forgot to find the first few memory s...      0.0\n",
       "4     I really hope Jack plays Sky some day, I reall...      0.0\n",
       "...                                                 ...      ...\n",
       "7983                Forgot Paper Mario, classic mistake      0.0\n",
       "7984                                            what?!?      0.0\n",
       "7985           I was not ready for him stabbing himself      0.0\n",
       "7986  I love the sound of falling onto a window in M...      0.0\n",
       "7987  Fallout NV gotta be my GOAT game if i really h...      0.0\n",
       "\n",
       "[7988 rows x 2 columns]"
      ]
     },
     "execution_count": 268,
     "metadata": {},
     "output_type": "execute_result"
    }
   ],
   "source": [
    "# Retrieving labeled comments\n",
    "labeled_data = pd.read_csv('youtube_comments.csv')\n",
    "labeled_data"
   ]
  },
  {
   "cell_type": "code",
   "execution_count": 269,
   "id": "80652798",
   "metadata": {},
   "outputs": [
    {
     "data": {
      "text/plain": [
       "7792"
      ]
     },
     "execution_count": 269,
     "metadata": {},
     "output_type": "execute_result"
    }
   ],
   "source": [
    "# Number of valid data\n",
    "sum(labeled_data['is_spam'] < 2)"
   ]
  },
  {
   "cell_type": "code",
   "execution_count": 270,
   "id": "b9bb42cf",
   "metadata": {},
   "outputs": [
    {
     "data": {
      "text/plain": [
       "196"
      ]
     },
     "execution_count": 270,
     "metadata": {},
     "output_type": "execute_result"
    }
   ],
   "source": [
    "# Number of \"invalid\" data, where invalid is gibberish or non-english\n",
    "labeled_data[labeled_data['is_spam'] == 2].shape[0]"
   ]
  },
  {
   "cell_type": "code",
   "execution_count": 271,
   "id": "78e3518f",
   "metadata": {},
   "outputs": [
    {
     "data": {
      "text/plain": [
       "7506"
      ]
     },
     "execution_count": 271,
     "metadata": {},
     "output_type": "execute_result"
    }
   ],
   "source": [
    "# Number of Not-Spam\n",
    "labeled_data[labeled_data['is_spam'] == 0].shape[0]"
   ]
  },
  {
   "cell_type": "code",
   "execution_count": 272,
   "id": "e30e8aa7",
   "metadata": {},
   "outputs": [
    {
     "data": {
      "text/plain": [
       "286"
      ]
     },
     "execution_count": 272,
     "metadata": {},
     "output_type": "execute_result"
    }
   ],
   "source": [
    "# Number of Spam\n",
    "labeled_data[labeled_data['is_spam'] == 1].shape[0]"
   ]
  },
  {
   "cell_type": "markdown",
   "id": "acfd8611",
   "metadata": {},
   "source": [
    "To get more data for spam comments, I utilized the UCI Machine Learning Repository to gather more spam comments.\n",
    "https://archive.ics.uci.edu/ml/datasets/YouTube+Spam+Collection"
   ]
  },
  {
   "cell_type": "code",
   "execution_count": 274,
   "id": "0ec902b6",
   "metadata": {},
   "outputs": [],
   "source": [
    "# Importing data from UCI Machine Learning Repository\n",
    "psy_data = pd.read_csv('YouTube-Spam-Collection-v1/Youtube01-Psy.csv')[['CONTENT', 'CLASS']]\n",
    "katy_perry_data = pd.read_csv('YouTube-Spam-Collection-v1/Youtube02-KatyPerry.csv')[['CONTENT', 'CLASS']]\n",
    "lmfao_data = pd.read_csv('YouTube-Spam-Collection-v1/Youtube03-LMFAO.csv')[['CONTENT', 'CLASS']]\n",
    "eminem_data = pd.read_csv('YouTube-Spam-Collection-v1/Youtube04-Eminem.csv')[['CONTENT', 'CLASS']]\n",
    "shakira_data = pd.read_csv('YouTube-Spam-Collection-v1/Youtube05-Shakira.csv')[['CONTENT', 'CLASS']]"
   ]
  },
  {
   "cell_type": "code",
   "execution_count": 275,
   "id": "b39b6278",
   "metadata": {},
   "outputs": [
    {
     "data": {
      "text/html": [
       "<div>\n",
       "<style scoped>\n",
       "    .dataframe tbody tr th:only-of-type {\n",
       "        vertical-align: middle;\n",
       "    }\n",
       "\n",
       "    .dataframe tbody tr th {\n",
       "        vertical-align: top;\n",
       "    }\n",
       "\n",
       "    .dataframe thead th {\n",
       "        text-align: right;\n",
       "    }\n",
       "</style>\n",
       "<table border=\"1\" class=\"dataframe\">\n",
       "  <thead>\n",
       "    <tr style=\"text-align: right;\">\n",
       "      <th></th>\n",
       "      <th>comment</th>\n",
       "      <th>is_spam</th>\n",
       "    </tr>\n",
       "  </thead>\n",
       "  <tbody>\n",
       "    <tr>\n",
       "      <th>0</th>\n",
       "      <td>Huh, anyway check out this you[tube] channel: ...</td>\n",
       "      <td>1</td>\n",
       "    </tr>\n",
       "    <tr>\n",
       "      <th>1</th>\n",
       "      <td>Hey guys check out my new channel and our firs...</td>\n",
       "      <td>1</td>\n",
       "    </tr>\n",
       "    <tr>\n",
       "      <th>2</th>\n",
       "      <td>just for test I have to say murdev.com</td>\n",
       "      <td>1</td>\n",
       "    </tr>\n",
       "    <tr>\n",
       "      <th>3</th>\n",
       "      <td>me shaking my sexy ass on my channel enjoy ^_^ ﻿</td>\n",
       "      <td>1</td>\n",
       "    </tr>\n",
       "    <tr>\n",
       "      <th>4</th>\n",
       "      <td>watch?v=vtaRGgvGtWQ   Check this out .﻿</td>\n",
       "      <td>1</td>\n",
       "    </tr>\n",
       "    <tr>\n",
       "      <th>...</th>\n",
       "      <td>...</td>\n",
       "      <td>...</td>\n",
       "    </tr>\n",
       "    <tr>\n",
       "      <th>357</th>\n",
       "      <td>********OMG Facebook is OLD! Check out  ------...</td>\n",
       "      <td>1</td>\n",
       "    </tr>\n",
       "    <tr>\n",
       "      <th>358</th>\n",
       "      <td>Hey Music Fans I really appreciate all of you ...</td>\n",
       "      <td>1</td>\n",
       "    </tr>\n",
       "    <tr>\n",
       "      <th>359</th>\n",
       "      <td>**CHECK OUT MY NEW MIXTAPE**** **CHECK OUT MY ...</td>\n",
       "      <td>1</td>\n",
       "    </tr>\n",
       "    <tr>\n",
       "      <th>360</th>\n",
       "      <td>**CHECK OUT MY NEW MIXTAPE**** **CHECK OUT MY ...</td>\n",
       "      <td>1</td>\n",
       "    </tr>\n",
       "    <tr>\n",
       "      <th>361</th>\n",
       "      <td>**CHECK OUT MY NEW MIXTAPE**** **CHECK OUT MY ...</td>\n",
       "      <td>1</td>\n",
       "    </tr>\n",
       "  </tbody>\n",
       "</table>\n",
       "<p>1005 rows × 2 columns</p>\n",
       "</div>"
      ],
      "text/plain": [
       "                                               comment  is_spam\n",
       "0    Huh, anyway check out this you[tube] channel: ...        1\n",
       "1    Hey guys check out my new channel and our firs...        1\n",
       "2               just for test I have to say murdev.com        1\n",
       "3     me shaking my sexy ass on my channel enjoy ^_^ ﻿        1\n",
       "4              watch?v=vtaRGgvGtWQ   Check this out .﻿        1\n",
       "..                                                 ...      ...\n",
       "357  ********OMG Facebook is OLD! Check out  ------...        1\n",
       "358  Hey Music Fans I really appreciate all of you ...        1\n",
       "359  **CHECK OUT MY NEW MIXTAPE**** **CHECK OUT MY ...        1\n",
       "360  **CHECK OUT MY NEW MIXTAPE**** **CHECK OUT MY ...        1\n",
       "361  **CHECK OUT MY NEW MIXTAPE**** **CHECK OUT MY ...        1\n",
       "\n",
       "[1005 rows x 2 columns]"
      ]
     },
     "execution_count": 275,
     "metadata": {},
     "output_type": "execute_result"
    }
   ],
   "source": [
    "# Concat all spam comments, standardizing column names, filter only spam comments\n",
    "spam_data = pd.concat([psy_data, katy_perry_data, lmfao_data, eminem_data, shakira_data])\n",
    "spam_comments = spam_data.rename(columns={'CONTENT':'comment', 'CLASS':'is_spam'})[spam_data['CLASS'] == 1]\n",
    "spam_comments"
   ]
  },
  {
   "cell_type": "markdown",
   "id": "30279f2d",
   "metadata": {},
   "source": [
    "<h2>Creating Spam Detection ML Model</h2>"
   ]
  },
  {
   "cell_type": "code",
   "execution_count": 276,
   "id": "9de5bf8f",
   "metadata": {},
   "outputs": [
    {
     "data": {
      "text/html": [
       "<div>\n",
       "<style scoped>\n",
       "    .dataframe tbody tr th:only-of-type {\n",
       "        vertical-align: middle;\n",
       "    }\n",
       "\n",
       "    .dataframe tbody tr th {\n",
       "        vertical-align: top;\n",
       "    }\n",
       "\n",
       "    .dataframe thead th {\n",
       "        text-align: right;\n",
       "    }\n",
       "</style>\n",
       "<table border=\"1\" class=\"dataframe\">\n",
       "  <thead>\n",
       "    <tr style=\"text-align: right;\">\n",
       "      <th></th>\n",
       "      <th>comment</th>\n",
       "      <th>is_spam</th>\n",
       "    </tr>\n",
       "  </thead>\n",
       "  <tbody>\n",
       "    <tr>\n",
       "      <th>0</th>\n",
       "      <td>Cats can eat grass it helps them when there st...</td>\n",
       "      <td>0.0</td>\n",
       "    </tr>\n",
       "    <tr>\n",
       "      <th>1</th>\n",
       "      <td>I can't wait for Part 2 on this :D look's awes...</td>\n",
       "      <td>0.0</td>\n",
       "    </tr>\n",
       "    <tr>\n",
       "      <th>2</th>\n",
       "      <td>Its okay about the poncho Jack, you return to ...</td>\n",
       "      <td>0.0</td>\n",
       "    </tr>\n",
       "    <tr>\n",
       "      <th>3</th>\n",
       "      <td>Jack you forgot to find the first few memory s...</td>\n",
       "      <td>0.0</td>\n",
       "    </tr>\n",
       "    <tr>\n",
       "      <th>4</th>\n",
       "      <td>I really hope Jack plays Sky some day, I reall...</td>\n",
       "      <td>0.0</td>\n",
       "    </tr>\n",
       "    <tr>\n",
       "      <th>...</th>\n",
       "      <td>...</td>\n",
       "      <td>...</td>\n",
       "    </tr>\n",
       "    <tr>\n",
       "      <th>357</th>\n",
       "      <td>********OMG Facebook is OLD! Check out  ------...</td>\n",
       "      <td>1.0</td>\n",
       "    </tr>\n",
       "    <tr>\n",
       "      <th>358</th>\n",
       "      <td>Hey Music Fans I really appreciate all of you ...</td>\n",
       "      <td>1.0</td>\n",
       "    </tr>\n",
       "    <tr>\n",
       "      <th>359</th>\n",
       "      <td>**CHECK OUT MY NEW MIXTAPE**** **CHECK OUT MY ...</td>\n",
       "      <td>1.0</td>\n",
       "    </tr>\n",
       "    <tr>\n",
       "      <th>360</th>\n",
       "      <td>**CHECK OUT MY NEW MIXTAPE**** **CHECK OUT MY ...</td>\n",
       "      <td>1.0</td>\n",
       "    </tr>\n",
       "    <tr>\n",
       "      <th>361</th>\n",
       "      <td>**CHECK OUT MY NEW MIXTAPE**** **CHECK OUT MY ...</td>\n",
       "      <td>1.0</td>\n",
       "    </tr>\n",
       "  </tbody>\n",
       "</table>\n",
       "<p>8796 rows × 2 columns</p>\n",
       "</div>"
      ],
      "text/plain": [
       "                                               comment  is_spam\n",
       "0    Cats can eat grass it helps them when there st...      0.0\n",
       "1    I can't wait for Part 2 on this :D look's awes...      0.0\n",
       "2    Its okay about the poncho Jack, you return to ...      0.0\n",
       "3    Jack you forgot to find the first few memory s...      0.0\n",
       "4    I really hope Jack plays Sky some day, I reall...      0.0\n",
       "..                                                 ...      ...\n",
       "357  ********OMG Facebook is OLD! Check out  ------...      1.0\n",
       "358  Hey Music Fans I really appreciate all of you ...      1.0\n",
       "359  **CHECK OUT MY NEW MIXTAPE**** **CHECK OUT MY ...      1.0\n",
       "360  **CHECK OUT MY NEW MIXTAPE**** **CHECK OUT MY ...      1.0\n",
       "361  **CHECK OUT MY NEW MIXTAPE**** **CHECK OUT MY ...      1.0\n",
       "\n",
       "[8796 rows x 2 columns]"
      ]
     },
     "execution_count": 276,
     "metadata": {},
     "output_type": "execute_result"
    }
   ],
   "source": [
    "filtered_data = pd.concat([labeled_data[labeled_data['is_spam'] < 2], spam_comments]).dropna()\n",
    "filtered_data"
   ]
  },
  {
   "cell_type": "code",
   "execution_count": 300,
   "id": "65574ce6",
   "metadata": {},
   "outputs": [
    {
     "name": "stdout",
     "output_type": "stream",
     "text": [
      "Number of Spam:  7506\n",
      "Number of Not-Spam:  1290\n"
     ]
    },
    {
     "data": {
      "image/png": "[encoded data removed]",
      "text/plain": [
       "<Figure size 432x288 with 1 Axes>"
      ]
     },
     "metadata": {},
     "output_type": "display_data"
    },
    {
     "name": "stdout",
     "output_type": "stream",
     "text": [
      "Perentage of Spam:  0.85\n",
      "Perentage of Spam:  0.15\n"
     ]
    }
   ],
   "source": [
    "# Plotting Pie Chart of Proportion of Spam and Not-Spam Comments\n",
    "labels = ['Spam', 'Not-Spam']\n",
    "values = [sum(filtered_data['is_spam'] == 0), sum(filtered_data['is_spam'] == 1)]\n",
    "\n",
    "plt.pie(values, labels = labels)\n",
    "\n",
    "print('Number of Spam: ', sum(filtered_data['is_spam'] == 0))\n",
    "print('Number of Not-Spam: ', sum(filtered_data['is_spam'] == 1))\n",
    "plt.show()\n",
    "print('Perentage of Spam: ', round(sum(filtered_data['is_spam'] == 0) / filtered_data.shape[0], 2))\n",
    "print('Perentage of Spam: ', round(sum(filtered_data['is_spam'] == 1) / filtered_data.shape[0], 2))"
   ]
  },
  {
   "cell_type": "code",
   "execution_count": 314,
   "id": "8e499033",
   "metadata": {},
   "outputs": [],
   "source": [
    "# Convert text to matrix of token counts\n",
    "bag_of_words = CountVectorizer(analyzer=process_text).fit_transform(filtered_data['comment'])"
   ]
  },
  {
   "cell_type": "code",
   "execution_count": 319,
   "id": "378ca7a6",
   "metadata": {},
   "outputs": [],
   "source": [
    "# Splitting data into 70% train and 30% test\n",
    "X_train, X_test, y_train, y_test = train_test_split(\n",
    "    bag_of_words,\n",
    "    filtered_data['is_spam'],\n",
    "    test_size = 0.3,\n",
    ")"
   ]
  },
  {
   "cell_type": "code",
   "execution_count": 320,
   "id": "863876fb",
   "metadata": {},
   "outputs": [],
   "source": [
    "# Creating and training Naive Bayes Classifier\n",
    "classifier = MultinomialNB().fit(X_train, y_train)"
   ]
  },
  {
   "cell_type": "markdown",
   "id": "71e2f29e",
   "metadata": {},
   "source": [
    "<h2>Evaluating Model on Training Data Set</h2>"
   ]
  },
  {
   "cell_type": "code",
   "execution_count": 321,
   "id": "7b5dfdc8",
   "metadata": {},
   "outputs": [
    {
     "name": "stdout",
     "output_type": "stream",
     "text": [
      "Classification Report: \n",
      "               precision    recall  f1-score   support\n",
      "\n",
      "         0.0       0.97      0.99      0.98      5235\n",
      "         1.0       0.93      0.85      0.89       922\n",
      "\n",
      "    accuracy                           0.97      6157\n",
      "   macro avg       0.95      0.92      0.94      6157\n",
      "weighted avg       0.97      0.97      0.97      6157\n",
      "\n",
      "Confusion matrix: \n",
      " [[5180   55]\n",
      " [ 137  785]] \n",
      "\n",
      "Accuracy: \n",
      " 0.9688159818093227\n"
     ]
    }
   ],
   "source": [
    "pred_train = classifier.predict(X_train)\n",
    "print('Classification Report: \\n', classification_report(y_train, pred_train))\n",
    "print('Confusion matrix: \\n', confusion_matrix(y_train, pred_train), '\\n')\n",
    "print('Accuracy: \\n', accuracy_score(y_train, pred_train))"
   ]
  },
  {
   "cell_type": "markdown",
   "id": "afa6a02b",
   "metadata": {},
   "source": [
    "<h2>Evaluating Model on Test Data Set</h2>"
   ]
  },
  {
   "cell_type": "code",
   "execution_count": 322,
   "id": "16f1c888",
   "metadata": {},
   "outputs": [
    {
     "name": "stdout",
     "output_type": "stream",
     "text": [
      "Classification Report: \n",
      "               precision    recall  f1-score   support\n",
      "\n",
      "         0.0       0.96      0.96      0.96      2271\n",
      "         1.0       0.75      0.79      0.77       368\n",
      "\n",
      "    accuracy                           0.93      2639\n",
      "   macro avg       0.86      0.87      0.86      2639\n",
      "weighted avg       0.94      0.93      0.93      2639\n",
      "\n",
      "Confusion matrix: \n",
      " [[2175   96]\n",
      " [  79  289]] \n",
      "\n",
      "Accuracy: \n",
      " 0.9336870026525199\n"
     ]
    }
   ],
   "source": [
    "pred_test = classifier.predict(X_test)\n",
    "print('Classification Report: \\n', classification_report(y_test, pred_test))\n",
    "print('Confusion matrix: \\n', confusion_matrix(y_test, pred_test), '\\n')\n",
    "print('Accuracy: \\n', accuracy_score(y_test, pred_test))"
   ]
  }
 ],
 "metadata": {
  "kernelspec": {
   "display_name": "Python 3 (ipykernel)",
   "language": "python",
   "name": "python3"
  },
  "language_info": {
   "codemirror_mode": {
    "name": "ipython",
    "version": 3
   },
   "file_extension": ".py",
   "mimetype": "text/x-python",
   "name": "python",
   "nbconvert_exporter": "python",
   "pygments_lexer": "ipython3",
   "version": "3.9.7"
  }
 },
 "nbformat": 4,
 "nbformat_minor": 5
}
